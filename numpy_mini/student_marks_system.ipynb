{
  "nbformat": 4,
  "nbformat_minor": 0,
  "metadata": {
    "colab": {
      "provenance": []
    },
    "kernelspec": {
      "name": "python3",
      "display_name": "Python 3"
    },
    "language_info": {
      "name": "python"
    }
  },
  "cells": [
    {
      "cell_type": "markdown",
      "source": [
        "A comprehensive interactive Jupyter notebook demonstrating NumPy fundamentals through a practical student marks management system. This educational project covers array operations, statistical analysis, and data manipulation using real-world scenarios."
      ],
      "metadata": {
        "id": "idZTZeVajYir"
      }
    },
    {
      "cell_type": "code",
      "source": [
        "import numpy as np"
      ],
      "metadata": {
        "id": "T7HFIYedXr3O"
      },
      "execution_count": 2,
      "outputs": []
    },
    {
      "cell_type": "markdown",
      "source": [
        "Module 1"
      ],
      "metadata": {
        "id": "a0_jInS9jM5O"
      }
    },
    {
      "cell_type": "code",
      "execution_count": 3,
      "metadata": {
        "colab": {
          "base_uri": "https://localhost:8080/"
        },
        "id": "xBmkIiOZXjgG",
        "outputId": "7cac8ca9-0446-4fc1-cecf-99d28021fcb5"
      },
      "outputs": [
        {
          "output_type": "stream",
          "name": "stdout",
          "text": [
            "[[83 46 68 39 57 40 37]\n",
            " [70 61 41 55 78 66 84]\n",
            " [76 99 41 54 37 65 70]\n",
            " [61 95 37 45 86 35 35]\n",
            " [46 65 61 86 63 59 81]\n",
            " [97 48 71 35 93 78 99]\n",
            " [54 93 80 36 96 44 64]]\n"
          ]
        }
      ],
      "source": [
        "np.random.seed(50)\n",
        "marks = np.random.randint(35,101,size=(7,7))\n",
        "print(marks)"
      ]
    },
    {
      "cell_type": "code",
      "source": [
        "marks.ndim"
      ],
      "metadata": {
        "colab": {
          "base_uri": "https://localhost:8080/"
        },
        "id": "FjHMAYaPXkl3",
        "outputId": "7f74925b-69b4-462a-8c5a-53abbf15b995"
      },
      "execution_count": 4,
      "outputs": [
        {
          "output_type": "execute_result",
          "data": {
            "text/plain": [
              "2"
            ]
          },
          "metadata": {},
          "execution_count": 4
        }
      ]
    },
    {
      "cell_type": "code",
      "source": [
        "marks.size"
      ],
      "metadata": {
        "colab": {
          "base_uri": "https://localhost:8080/"
        },
        "id": "60hhPomMi4ay",
        "outputId": "3a7c63a0-43c1-4c90-eb5a-9a9ebaad0663"
      },
      "execution_count": 6,
      "outputs": [
        {
          "output_type": "execute_result",
          "data": {
            "text/plain": [
              "49"
            ]
          },
          "metadata": {},
          "execution_count": 6
        }
      ]
    },
    {
      "cell_type": "code",
      "source": [
        "marks.shape"
      ],
      "metadata": {
        "colab": {
          "base_uri": "https://localhost:8080/"
        },
        "id": "vBnz6tRNi80Y",
        "outputId": "51411a04-f62c-467a-b026-e307efc7b9c1"
      },
      "execution_count": 7,
      "outputs": [
        {
          "output_type": "execute_result",
          "data": {
            "text/plain": [
              "(7, 7)"
            ]
          },
          "metadata": {},
          "execution_count": 7
        }
      ]
    },
    {
      "cell_type": "code",
      "source": [
        "marks.dtype"
      ],
      "metadata": {
        "colab": {
          "base_uri": "https://localhost:8080/"
        },
        "id": "9nk6Baqki-2m",
        "outputId": "e4b6962a-77a3-4d16-d183-5be73f6353e3"
      },
      "execution_count": 8,
      "outputs": [
        {
          "output_type": "execute_result",
          "data": {
            "text/plain": [
              "dtype('int64')"
            ]
          },
          "metadata": {},
          "execution_count": 8
        }
      ]
    },
    {
      "cell_type": "markdown",
      "source": [
        "Module 2"
      ],
      "metadata": {
        "id": "T2emt_gPjtZ2"
      }
    },
    {
      "cell_type": "code",
      "source": [
        "import numpy as np\n",
        "\n",
        "# Example: Student IDs from 1 to 7\n",
        "student_ids = np.arange(1, 8)\n",
        "print(\"Student IDs:\", student_ids)\n",
        "\n",
        "# Example: Marks from 35 to 100 with step 5\n",
        "marks_range = np.arange(35, 101, 5)\n",
        "print(\"Marks range:\", marks_range)\n"
      ],
      "metadata": {
        "colab": {
          "base_uri": "https://localhost:8080/"
        },
        "id": "mLiYSMxQjFux",
        "outputId": "6dbe7a50-3c74-49e8-8c1c-73de747b4fae"
      },
      "execution_count": 9,
      "outputs": [
        {
          "output_type": "stream",
          "name": "stdout",
          "text": [
            "Student IDs: [1 2 3 4 5 6 7]\n",
            "Marks range: [ 35  40  45  50  55  60  65  70  75  80  85  90  95 100]\n"
          ]
        }
      ]
    },
    {
      "cell_type": "code",
      "source": [],
      "metadata": {
        "id": "ryN1YN2rmWOi"
      },
      "execution_count": null,
      "outputs": []
    }
  ]
}