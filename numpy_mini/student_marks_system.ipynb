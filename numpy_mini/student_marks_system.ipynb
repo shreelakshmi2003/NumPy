{
  "nbformat": 4,
  "nbformat_minor": 0,
  "metadata": {
    "colab": {
      "provenance": []
    },
    "kernelspec": {
      "name": "python3",
      "display_name": "Python 3"
    },
    "language_info": {
      "name": "python"
    }
  },
  "cells": [
    {
      "cell_type": "markdown",
      "source": [
        "A comprehensive interactive Jupyter notebook demonstrating NumPy fundamentals through a practical student marks management system. This educational project covers array operations, statistical analysis, and data manipulation using real-world scenarios."
      ],
      "metadata": {
        "id": "idZTZeVajYir"
      }
    },
    {
      "cell_type": "code",
      "source": [
        "import numpy as np"
      ],
      "metadata": {
        "id": "T7HFIYedXr3O"
      },
      "execution_count": 45,
      "outputs": []
    },
    {
      "cell_type": "markdown",
      "source": [
        "Data Creation"
      ],
      "metadata": {
        "id": "a0_jInS9jM5O"
      }
    },
    {
      "cell_type": "code",
      "execution_count": 46,
      "metadata": {
        "colab": {
          "base_uri": "https://localhost:8080/"
        },
        "id": "xBmkIiOZXjgG",
        "outputId": "783fa813-3d4b-4b10-eb40-22bf17031537"
      },
      "outputs": [
        {
          "output_type": "stream",
          "name": "stdout",
          "text": [
            "Students: ['A' 'B' 'C' 'D' 'E']\n",
            "Subjects: ['Math' 'Science' 'English' 'History']\n",
            "Marks:\n",
            " [[85 78 92 88]\n",
            " [72 69 75 80]\n",
            " [90 95 85 92]\n",
            " [60 70 65 68]\n",
            " [88 82 79 91]]\n"
          ]
        }
      ],
      "source": [
        "students = np.array([\"A\", \"B\", \"C\", \"D\", \"E\"])\n",
        "subjects = np.array([\"Math\", \"Science\", \"English\", \"History\"])\n",
        "\n",
        "marks = np.array([\n",
        "    [85, 78, 92, 88],\n",
        "    [72, 69, 75, 80],\n",
        "    [90, 95, 85, 92],\n",
        "    [60, 70, 65, 68],\n",
        "    [88, 82, 79, 91]\n",
        "])\n",
        "\n",
        "print(\"Students:\", students)\n",
        "print(\"Subjects:\", subjects)\n",
        "print(\"Marks:\\n\", marks)\n"
      ]
    },
    {
      "cell_type": "markdown",
      "source": [
        "Data Exploration"
      ],
      "metadata": {
        "id": "7JO521wIleUM"
      }
    },
    {
      "cell_type": "code",
      "source": [
        "print(\"For Students Array: \")\n",
        "print(\"Shape of Marks Array:\", students.shape)\n",
        "print(\"Size of Marks Array:\", students.size)\n",
        "print(\"Dimensions:\", students.ndim)\n",
        "print(\"Data Type:\", students.dtype)\n",
        "print(\"\\n\")\n",
        "\n",
        "print(\"For Subjects Array: \")\n",
        "print(\"Shape of Marks Array:\", subjects.shape)\n",
        "print(\"Size of Marks Array:\", subjects.size)\n",
        "print(\"Dimensions:\", subjects.ndim)\n",
        "print(\"Data Type:\", subjects.dtype)\n",
        "print(\"\\n\")\n",
        "\n",
        "print(\"For Marks Array: \")\n",
        "print(\"Shape of Marks Array:\", marks.shape)\n",
        "print(\"Size of Marks Array:\", marks.size)\n",
        "print(\"Dimensions:\", marks.ndim)\n",
        "print(\"Data Type:\", marks.dtype)\n"
      ],
      "metadata": {
        "colab": {
          "base_uri": "https://localhost:8080/"
        },
        "id": "FjHMAYaPXkl3",
        "outputId": "ac588cdc-69a5-492f-ba0b-76164ef01a04"
      },
      "execution_count": 47,
      "outputs": [
        {
          "output_type": "stream",
          "name": "stdout",
          "text": [
            "For Students Array: \n",
            "Shape of Marks Array: (5,)\n",
            "Size of Marks Array: 5\n",
            "Dimensions: 1\n",
            "Data Type: <U1\n",
            "\n",
            "\n",
            "For Subjects Array: \n",
            "Shape of Marks Array: (4,)\n",
            "Size of Marks Array: 4\n",
            "Dimensions: 1\n",
            "Data Type: <U7\n",
            "\n",
            "\n",
            "For Marks Array: \n",
            "Shape of Marks Array: (5, 4)\n",
            "Size of Marks Array: 20\n",
            "Dimensions: 2\n",
            "Data Type: int64\n"
          ]
        }
      ]
    },
    {
      "cell_type": "markdown",
      "source": [
        "Data Transformation"
      ],
      "metadata": {
        "id": "aybdxojDll5D"
      }
    },
    {
      "cell_type": "code",
      "source": [
        "reshaped_marks = marks.T\n",
        "print(\"Reshaped (Transposed) Marks:\\n\", reshaped_marks)\n",
        "\n",
        "flat_marks = marks.flatten()\n",
        "print(\"Flattened Marks:\", flat_marks)\n",
        "\n",
        "ravel_marks = marks.ravel()\n",
        "print(\"Ravel Marks:\", ravel_marks)\n"
      ],
      "metadata": {
        "colab": {
          "base_uri": "https://localhost:8080/"
        },
        "id": "60hhPomMi4ay",
        "outputId": "00dfce6a-faa8-49ad-fdd4-44393e0a446d"
      },
      "execution_count": 48,
      "outputs": [
        {
          "output_type": "stream",
          "name": "stdout",
          "text": [
            "Reshaped (Transposed) Marks:\n",
            " [[85 72 90 60 88]\n",
            " [78 69 95 70 82]\n",
            " [92 75 85 65 79]\n",
            " [88 80 92 68 91]]\n",
            "Flattened Marks: [85 78 92 88 72 69 75 80 90 95 85 92 60 70 65 68 88 82 79 91]\n",
            "Ravel Marks: [85 78 92 88 72 69 75 80 90 95 85 92 60 70 65 68 88 82 79 91]\n"
          ]
        }
      ]
    },
    {
      "cell_type": "markdown",
      "source": [
        "Data Combination"
      ],
      "metadata": {
        "id": "7yN6xJ1vm25_"
      }
    },
    {
      "cell_type": "code",
      "source": [
        "new_student_marks = np.array([[77, 85, 80, 79]])\n",
        "updated_marks = np.vstack((marks, new_student_marks))\n",
        "print(\"After Adding New Student:\\n\", updated_marks)\n",
        "\n",
        "new_subject = np.array([[90], [85], [88], [70], [92], [81]])\n",
        "marks_with_new_subject = np.hstack((updated_marks, new_subject))\n",
        "print(\"After Adding New Subject:\\n\", marks_with_new_subject)\n",
        "\n",
        "print(\"Shape of marks_with_new_subject:\", marks_with_new_subject.shape)\n",
        "\n",
        "split_arrays = np.hsplit(marks_with_new_subject, [2])\n",
        "print(\"Split Arrays:\\n\", split_arrays[0], \"\\n and \\n\", split_arrays[1])"
      ],
      "metadata": {
        "colab": {
          "base_uri": "https://localhost:8080/"
        },
        "id": "vBnz6tRNi80Y",
        "outputId": "61290884-9813-4682-b05c-bbac4bdb02e8"
      },
      "execution_count": 49,
      "outputs": [
        {
          "output_type": "stream",
          "name": "stdout",
          "text": [
            "After Adding New Student:\n",
            " [[85 78 92 88]\n",
            " [72 69 75 80]\n",
            " [90 95 85 92]\n",
            " [60 70 65 68]\n",
            " [88 82 79 91]\n",
            " [77 85 80 79]]\n",
            "After Adding New Subject:\n",
            " [[85 78 92 88 90]\n",
            " [72 69 75 80 85]\n",
            " [90 95 85 92 88]\n",
            " [60 70 65 68 70]\n",
            " [88 82 79 91 92]\n",
            " [77 85 80 79 81]]\n",
            "Shape of marks_with_new_subject: (6, 5)\n",
            "Split Arrays:\n",
            " [[85 78]\n",
            " [72 69]\n",
            " [90 95]\n",
            " [60 70]\n",
            " [88 82]\n",
            " [77 85]] \n",
            " and \n",
            " [[92 88 90]\n",
            " [75 80 85]\n",
            " [85 92 88]\n",
            " [65 68 70]\n",
            " [79 91 92]\n",
            " [80 79 81]]\n"
          ]
        }
      ]
    },
    {
      "cell_type": "markdown",
      "source": [
        "Data Modification"
      ],
      "metadata": {
        "id": "fkZzDhEhnmyn"
      }
    },
    {
      "cell_type": "code",
      "source": [
        "marks[1, 2] = 89\n",
        "print(\"Updated Marks for B (English):\\n\", marks)\n",
        "\n",
        "unique_marks = np.unique(marks)\n",
        "print(\"Unique Marks:\", unique_marks)\n",
        "\n",
        "marks_removed = np.delete(marks, 3)\n",
        "print(\"After Removing D:\\n\", marks_removed)\n",
        "\n",
        "flipped_marks = np.flip(marks)\n",
        "print(\"Flipped Marks:\\n\", flipped_marks)\n"
      ],
      "metadata": {
        "colab": {
          "base_uri": "https://localhost:8080/"
        },
        "id": "9nk6Baqki-2m",
        "outputId": "801b56bb-835d-43b7-f0b2-99e33c30d60a"
      },
      "execution_count": 50,
      "outputs": [
        {
          "output_type": "stream",
          "name": "stdout",
          "text": [
            "Updated Marks for B (English):\n",
            " [[85 78 92 88]\n",
            " [72 69 89 80]\n",
            " [90 95 85 92]\n",
            " [60 70 65 68]\n",
            " [88 82 79 91]]\n",
            "Unique Marks: [60 65 68 69 70 72 78 79 80 82 85 88 89 90 91 92 95]\n",
            "After Removing D:\n",
            " [85 78 92 72 69 89 80 90 95 85 92 60 70 65 68 88 82 79 91]\n",
            "Flipped Marks:\n",
            " [[91 79 82 88]\n",
            " [68 65 70 60]\n",
            " [92 85 95 90]\n",
            " [80 89 69 72]\n",
            " [88 92 78 85]]\n"
          ]
        }
      ]
    },
    {
      "cell_type": "markdown",
      "source": [
        "\n",
        "\n",
        "\n",
        "\n",
        "Data Type Handling"
      ],
      "metadata": {
        "id": "T2emt_gPjtZ2"
      }
    },
    {
      "cell_type": "code",
      "source": [
        "print(\"Converting marks to float\")\n",
        "marks_float = marks.astype(float)\n",
        "print(\"Float Marks Array:\\n\", marks_float)\n",
        "print(\"Data Type after conversion:\", marks_float.dtype)\n",
        "\n",
        "print(\"\\n\")\n",
        "print(\"Back to integer\")\n",
        "marks_int = marks_float.astype(int)\n",
        "print(\"Integer Marks Array:\\n\", marks_int)\n"
      ],
      "metadata": {
        "colab": {
          "base_uri": "https://localhost:8080/"
        },
        "id": "mLiYSMxQjFux",
        "outputId": "dd820c16-95d5-4b53-97cf-7deee83d5978"
      },
      "execution_count": 51,
      "outputs": [
        {
          "output_type": "stream",
          "name": "stdout",
          "text": [
            "Converting marks to float\n",
            "Float Marks Array:\n",
            " [[85. 78. 92. 88.]\n",
            " [72. 69. 89. 80.]\n",
            " [90. 95. 85. 92.]\n",
            " [60. 70. 65. 68.]\n",
            " [88. 82. 79. 91.]]\n",
            "Data Type after conversion: float64\n",
            "\n",
            "\n",
            "Back to integer\n",
            "Integer Marks Array:\n",
            " [[85 78 92 88]\n",
            " [72 69 89 80]\n",
            " [90 95 85 92]\n",
            " [60 70 65 68]\n",
            " [88 82 79 91]]\n"
          ]
        }
      ]
    },
    {
      "cell_type": "markdown",
      "source": [
        "Copy and View Behaviour"
      ],
      "metadata": {
        "id": "nMO8s3_loNXq"
      }
    },
    {
      "cell_type": "code",
      "source": [
        "marks_copy = marks.copy()\n",
        "marks_copy[0, 0] = 0\n",
        "print(\"Original Marks before copy modification:\\n\", marks)\n",
        "print(\"Copy Array:\\n\", marks_copy)\n",
        "\n",
        "marks_view = marks.view()\n",
        "marks_view[0, 0] = 99\n",
        "print(\"Original Marks before view modification:\\n\", marks)\n",
        "print(\"View Array:\\n\", marks_view)\n"
      ],
      "metadata": {
        "id": "ryN1YN2rmWOi",
        "colab": {
          "base_uri": "https://localhost:8080/"
        },
        "outputId": "f897e21a-859f-4332-c690-e4d321cc0f09"
      },
      "execution_count": 52,
      "outputs": [
        {
          "output_type": "stream",
          "name": "stdout",
          "text": [
            "Original Marks before copy modification:\n",
            " [[85 78 92 88]\n",
            " [72 69 89 80]\n",
            " [90 95 85 92]\n",
            " [60 70 65 68]\n",
            " [88 82 79 91]]\n",
            "Copy Array:\n",
            " [[ 0 78 92 88]\n",
            " [72 69 89 80]\n",
            " [90 95 85 92]\n",
            " [60 70 65 68]\n",
            " [88 82 79 91]]\n",
            "Original Marks before view modification:\n",
            " [[99 78 92 88]\n",
            " [72 69 89 80]\n",
            " [90 95 85 92]\n",
            " [60 70 65 68]\n",
            " [88 82 79 91]]\n",
            "View Array:\n",
            " [[99 78 92 88]\n",
            " [72 69 89 80]\n",
            " [90 95 85 92]\n",
            " [60 70 65 68]\n",
            " [88 82 79 91]]\n"
          ]
        }
      ]
    }
  ]
}