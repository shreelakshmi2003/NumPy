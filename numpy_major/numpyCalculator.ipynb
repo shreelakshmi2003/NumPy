{
  "nbformat": 4,
  "nbformat_minor": 0,
  "metadata": {
    "colab": {
      "provenance": []
    },
    "kernelspec": {
      "name": "python3",
      "display_name": "Python 3"
    },
    "language_info": {
      "name": "python"
    }
  },
  "cells": [
    {
      "cell_type": "code",
      "execution_count": 19,
      "metadata": {
        "id": "peeba-Hy_gdL"
      },
      "outputs": [],
      "source": [
        "import numpy as np\n",
        "\n",
        "def arr_input():\n",
        "  print(\"Enter elements for first array (Space-seperated):\")\n",
        "  arr1 = np.array(list(map(int, input().split())))\n",
        "  print(\"Enter elements for second array (Space-seperated):\")\n",
        "  arr2 = np.array(list(map(int, input().split())))\n",
        "  print(arr1)\n",
        "  print(arr2)\n",
        "  return arr1, arr2"
      ]
    },
    {
      "cell_type": "markdown",
      "source": [
        "Basic Arithmetic operations"
      ],
      "metadata": {
        "id": "ytcRubnPD2eW"
      }
    },
    {
      "cell_type": "code",
      "source": [
        "def basic_operations(arr1,arr2):\n",
        "  print(\"Addition:\", arr1 + arr2)\n",
        "  print(\"Subtraction:\", arr1 - arr2)\n",
        "  print(\"Multiplication:\", arr1 * arr2)\n",
        "  print(\"Division:\", arr1 / arr2)\n",
        "  print(\"Power:\", arr1 ** arr2)"
      ],
      "metadata": {
        "id": "l01cqZXoCwSM"
      },
      "execution_count": 20,
      "outputs": []
    },
    {
      "cell_type": "markdown",
      "source": [
        "Statistical Operations"
      ],
      "metadata": {
        "id": "dpLF9Z5LGOgC"
      }
    },
    {
      "cell_type": "code",
      "source": [
        "def stat_operations(arr1):\n",
        "  mean = np.mean(arr1)\n",
        "  median = np.median(arr1)\n",
        "  std = np.std(arr1)\n",
        "  var = np.var(arr1)\n",
        "  min_val = np.min(arr1)\n",
        "  max_val = np.max(arr1)\n",
        "  sum_val = np.sum(arr1)\n",
        "  prod = np.prod(arr1)\n",
        "  shape = arr1.shape\n",
        "  size = arr1.size\n",
        "  dtype = arr1.dtype\n",
        "\n",
        "  print(\"Mean:\", mean)\n",
        "  print(\"Median:\", median)\n",
        "  print(\"Standard Deviation:\", std)\n",
        "  print(\"Variance:\", var)\n",
        "  print(\"Min:\", min_val)\n",
        "  print(\"Max:\", max_val)\n",
        "  print(\"Sum:\", sum_val)\n",
        "  print(\"Product:\", prod)\n",
        "  print(\"Shape:\", shape)\n",
        "  print(\"Size:\", size)\n",
        "  print(\"Data Type:\", dtype)"
      ],
      "metadata": {
        "id": "rcWCA7rkDlmE"
      },
      "execution_count": 21,
      "outputs": []
    },
    {
      "cell_type": "markdown",
      "source": [
        "Array Manipulation"
      ],
      "metadata": {
        "id": "0U1QFyapHdjb"
      }
    },
    {
      "cell_type": "code",
      "source": [
        "def arr_manipulation(arr1):\n",
        "  if arr1.size % 2 == 0:\n",
        "      reshaped = arr1.reshape(2, -1)\n",
        "  else:\n",
        "      reshaped = arr1\n",
        "\n",
        "  sorted_arr = np.sort(arr1)\n",
        "  rev_sorted = np.sort(arr1)[::-1]\n",
        "  unique_vals = np.unique(arr1)\n",
        "  first_elem = arr1[0]\n",
        "  last_elem = arr1[-1]\n",
        "  mean_val = np.mean(arr1)\n",
        "  filtered = arr1[arr1 > mean_val]\n",
        "\n",
        "  print(\"Original Array:\", arr1)\n",
        "  print(\"Reshaped Array:\\n\", reshaped)\n",
        "  print(\"Sorted Array:\", sorted_arr)\n",
        "  print(\"Reverse Sorted Array:\", rev_sorted)\n",
        "  print(\"Unique Values:\", unique_vals)\n",
        "  print(\"First Element:\", first_elem)\n",
        "  print(\"Last Element:\", last_elem)\n",
        "  print(\"Mean Value:\", mean_val)\n",
        "  print(\"Values Greater Than Mean:\", filtered)\n"
      ],
      "metadata": {
        "id": "CfEySfmDGTcG"
      },
      "execution_count": 22,
      "outputs": []
    },
    {
      "cell_type": "code",
      "source": [
        "def main():\n",
        "    while True:\n",
        "        print(\"=\"*50)\n",
        "        print(\"\\t\\t NumPy Calculator \\t\\t \")\n",
        "        print(\"=\"*50)\n",
        "        print(\"1. Basic Operations\")\n",
        "        print(\"2. Statistical Operations\")\n",
        "        print(\"3. Array Manipulation\")\n",
        "        print(\"4. Exit\")\n",
        "        print(\"=\"*50)\n",
        "        choice = input(\"Enter your choice (1–4): \")\n",
        "\n",
        "        if choice == '1':\n",
        "          arr1, arr2 = arr_input()\n",
        "          basic_operations(arr1, arr2)\n",
        "\n",
        "        elif choice == '2':\n",
        "          arr1, arr2 = arr_input()\n",
        "          print(\"=\"*50)\n",
        "          print(\"For arr1:\")\n",
        "          stat_operations(arr1)\n",
        "          print(\"=\"*50)\n",
        "          print(\"For arr2:\")\n",
        "          stat_operations(arr2)\n",
        "\n",
        "        elif choice == '3':\n",
        "          arr1, arr2 = arr_input()\n",
        "          print(\"=\"*50)\n",
        "          print(\"For arr1:\")\n",
        "          arr_manipulation(arr1)\n",
        "          print(\"=\"*50)\n",
        "          print(\"For arr2:\")\n",
        "          arr_manipulation(arr2)\n",
        "\n",
        "        elif choice == '4':\n",
        "            print(\"\\n\" + \"=\"*50)\n",
        "            print(\"Exiting...\")\n",
        "            print(\"Thank You for using NumPy Calculator!\")\n",
        "            print(\"=\"*50)\n",
        "            break\n",
        "\n",
        "        else:\n",
        "            print(\"\\nInvalid choice! Please select between 1–4.\")\n",
        "\n",
        "main()"
      ],
      "metadata": {
        "colab": {
          "base_uri": "https://localhost:8080/",
          "height": 1000
        },
        "id": "KSFTXhnuIQOH",
        "outputId": "0ad4f071-0b41-474e-abf5-3a21033bd5e5"
      },
      "execution_count": 35,
      "outputs": [
        {
          "output_type": "stream",
          "name": "stdout",
          "text": [
            "==================================================\n",
            "\t\t NumPy Calculator \t\t \n",
            "==================================================\n",
            "1. Basic Operations\n",
            "2. Statistical Operations\n",
            "3. Array Manipulation\n",
            "4. Exit\n",
            "==================================================\n",
            "Enter your choice (1–4): 2\n",
            "Enter elements for first array (Space seperated):\n",
            "4 5 6 7\n",
            "Enter elements for second array Space seperated:\n",
            "6 5 4 3\n",
            "[4 5 6 7]\n",
            "[6 5 4 3]\n",
            "For arr1:\n",
            "Mean: 5.5\n",
            "Median: 5.5\n",
            "Standard Deviation: 1.118033988749895\n",
            "Variance: 1.25\n",
            "Min: 4\n",
            "Max: 7\n",
            "Sum: 22\n",
            "Product: 840\n",
            "Shape: (4,)\n",
            "Size: 4\n",
            "Data Type: int64\n",
            "==================================================\n",
            "For arr2:\n",
            "Mean: 4.5\n",
            "Median: 4.5\n",
            "Standard Deviation: 1.118033988749895\n",
            "Variance: 1.25\n",
            "Min: 3\n",
            "Max: 6\n",
            "Sum: 18\n",
            "Product: 360\n",
            "Shape: (4,)\n",
            "Size: 4\n",
            "Data Type: int64\n",
            "==================================================\n",
            "\t\t NumPy Calculator \t\t \n",
            "==================================================\n",
            "1. Basic Operations\n",
            "2. Statistical Operations\n",
            "3. Array Manipulation\n",
            "4. Exit\n",
            "==================================================\n"
          ]
        },
        {
          "output_type": "error",
          "ename": "KeyboardInterrupt",
          "evalue": "Interrupted by user",
          "traceback": [
            "\u001b[0;31m---------------------------------------------------------------------------\u001b[0m",
            "\u001b[0;31mKeyboardInterrupt\u001b[0m                         Traceback (most recent call last)",
            "\u001b[0;32m/tmp/ipython-input-3284463595.py\u001b[0m in \u001b[0;36m<cell line: 0>\u001b[0;34m()\u001b[0m\n\u001b[1;32m     41\u001b[0m             \u001b[0mprint\u001b[0m\u001b[0;34m(\u001b[0m\u001b[0;34m\"\\nInvalid choice! Please select between 1–4.\"\u001b[0m\u001b[0;34m)\u001b[0m\u001b[0;34m\u001b[0m\u001b[0;34m\u001b[0m\u001b[0m\n\u001b[1;32m     42\u001b[0m \u001b[0;34m\u001b[0m\u001b[0m\n\u001b[0;32m---> 43\u001b[0;31m \u001b[0mmain\u001b[0m\u001b[0;34m(\u001b[0m\u001b[0;34m)\u001b[0m\u001b[0;34m\u001b[0m\u001b[0;34m\u001b[0m\u001b[0m\n\u001b[0m",
            "\u001b[0;32m/tmp/ipython-input-3284463595.py\u001b[0m in \u001b[0;36mmain\u001b[0;34m()\u001b[0m\n\u001b[1;32m      9\u001b[0m         \u001b[0mprint\u001b[0m\u001b[0;34m(\u001b[0m\u001b[0;34m\"4. Exit\"\u001b[0m\u001b[0;34m)\u001b[0m\u001b[0;34m\u001b[0m\u001b[0;34m\u001b[0m\u001b[0m\n\u001b[1;32m     10\u001b[0m         \u001b[0mprint\u001b[0m\u001b[0;34m(\u001b[0m\u001b[0;34m\"=\"\u001b[0m\u001b[0;34m*\u001b[0m\u001b[0;36m50\u001b[0m\u001b[0;34m)\u001b[0m\u001b[0;34m\u001b[0m\u001b[0;34m\u001b[0m\u001b[0m\n\u001b[0;32m---> 11\u001b[0;31m         \u001b[0mchoice\u001b[0m \u001b[0;34m=\u001b[0m \u001b[0minput\u001b[0m\u001b[0;34m(\u001b[0m\u001b[0;34m\"Enter your choice (1–4): \"\u001b[0m\u001b[0;34m)\u001b[0m\u001b[0;34m\u001b[0m\u001b[0;34m\u001b[0m\u001b[0m\n\u001b[0m\u001b[1;32m     12\u001b[0m \u001b[0;34m\u001b[0m\u001b[0m\n\u001b[1;32m     13\u001b[0m         \u001b[0;32mif\u001b[0m \u001b[0mchoice\u001b[0m \u001b[0;34m==\u001b[0m \u001b[0;34m'1'\u001b[0m\u001b[0;34m:\u001b[0m\u001b[0;34m\u001b[0m\u001b[0;34m\u001b[0m\u001b[0m\n",
            "\u001b[0;32m/usr/local/lib/python3.12/dist-packages/ipykernel/kernelbase.py\u001b[0m in \u001b[0;36mraw_input\u001b[0;34m(self, prompt)\u001b[0m\n\u001b[1;32m   1175\u001b[0m                 \u001b[0;34m\"raw_input was called, but this frontend does not support input requests.\"\u001b[0m\u001b[0;34m\u001b[0m\u001b[0;34m\u001b[0m\u001b[0m\n\u001b[1;32m   1176\u001b[0m             )\n\u001b[0;32m-> 1177\u001b[0;31m         return self._input_request(\n\u001b[0m\u001b[1;32m   1178\u001b[0m             \u001b[0mstr\u001b[0m\u001b[0;34m(\u001b[0m\u001b[0mprompt\u001b[0m\u001b[0;34m)\u001b[0m\u001b[0;34m,\u001b[0m\u001b[0;34m\u001b[0m\u001b[0;34m\u001b[0m\u001b[0m\n\u001b[1;32m   1179\u001b[0m             \u001b[0mself\u001b[0m\u001b[0;34m.\u001b[0m\u001b[0m_parent_ident\u001b[0m\u001b[0;34m[\u001b[0m\u001b[0;34m\"shell\"\u001b[0m\u001b[0;34m]\u001b[0m\u001b[0;34m,\u001b[0m\u001b[0;34m\u001b[0m\u001b[0;34m\u001b[0m\u001b[0m\n",
            "\u001b[0;32m/usr/local/lib/python3.12/dist-packages/ipykernel/kernelbase.py\u001b[0m in \u001b[0;36m_input_request\u001b[0;34m(self, prompt, ident, parent, password)\u001b[0m\n\u001b[1;32m   1217\u001b[0m             \u001b[0;32mexcept\u001b[0m \u001b[0mKeyboardInterrupt\u001b[0m\u001b[0;34m:\u001b[0m\u001b[0;34m\u001b[0m\u001b[0;34m\u001b[0m\u001b[0m\n\u001b[1;32m   1218\u001b[0m                 \u001b[0;31m# re-raise KeyboardInterrupt, to truncate traceback\u001b[0m\u001b[0;34m\u001b[0m\u001b[0;34m\u001b[0m\u001b[0m\n\u001b[0;32m-> 1219\u001b[0;31m                 \u001b[0;32mraise\u001b[0m \u001b[0mKeyboardInterrupt\u001b[0m\u001b[0;34m(\u001b[0m\u001b[0;34m\"Interrupted by user\"\u001b[0m\u001b[0;34m)\u001b[0m \u001b[0;32mfrom\u001b[0m \u001b[0;32mNone\u001b[0m\u001b[0;34m\u001b[0m\u001b[0;34m\u001b[0m\u001b[0m\n\u001b[0m\u001b[1;32m   1220\u001b[0m             \u001b[0;32mexcept\u001b[0m \u001b[0mException\u001b[0m\u001b[0;34m:\u001b[0m\u001b[0;34m\u001b[0m\u001b[0;34m\u001b[0m\u001b[0m\n\u001b[1;32m   1221\u001b[0m                 \u001b[0mself\u001b[0m\u001b[0;34m.\u001b[0m\u001b[0mlog\u001b[0m\u001b[0;34m.\u001b[0m\u001b[0mwarning\u001b[0m\u001b[0;34m(\u001b[0m\u001b[0;34m\"Invalid Message:\"\u001b[0m\u001b[0;34m,\u001b[0m \u001b[0mexc_info\u001b[0m\u001b[0;34m=\u001b[0m\u001b[0;32mTrue\u001b[0m\u001b[0;34m)\u001b[0m\u001b[0;34m\u001b[0m\u001b[0;34m\u001b[0m\u001b[0m\n",
            "\u001b[0;31mKeyboardInterrupt\u001b[0m: Interrupted by user"
          ]
        }
      ]
    },
    {
      "cell_type": "code",
      "source": [],
      "metadata": {
        "id": "uXIpSLyWJh0A"
      },
      "execution_count": null,
      "outputs": []
    }
  ]
}